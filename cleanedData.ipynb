{
 "cells": [
  {
   "cell_type": "code",
   "execution_count": 1,
   "metadata": {
    "collapsed": true
   },
   "outputs": [],
   "source": [
    "import pandas as pd\n",
    "import numpy as np\n",
    "import matplotlib.pyplot as plt\n",
    "import re\n",
    "%matplotlib inline"
   ]
  },
  {
   "cell_type": "code",
   "execution_count": 2,
   "metadata": {
    "collapsed": false
   },
   "outputs": [],
   "source": [
    "data_summary = pd.read_csv('data/atussum_2014.dat')\n",
    "\n"
   ]
  },
  {
   "cell_type": "code",
   "execution_count": 3,
   "metadata": {
    "collapsed": false
   },
   "outputs": [],
   "source": [
    "from summary_files import *\n",
    "data_summary = data_summary.rename(columns=renamed_cols)"
   ]
  },
  {
   "cell_type": "code",
   "execution_count": 4,
   "metadata": {
    "collapsed": false
   },
   "outputs": [],
   "source": [
    "atus_who = pd.read_csv('data/atuswho_2014.dat')\n",
    "\n",
    "activity = pd.read_csv('data/atusact_2014.dat')\n",
    "\n",
    "cps = pd.read_csv('data/atuscps_2014.dat')\n",
    "\n",
    "resp = pd.read_csv('data/atusresp_2014.dat')\n",
    "\n",
    "rost = pd.read_csv('data/atusrost_2014.dat')\n",
    "\n",
    "rostec = pd.read_csv('data/atusrostec_2014.dat')\n",
    "\n"
   ]
  },
  {
   "cell_type": "code",
   "execution_count": 5,
   "metadata": {
    "collapsed": false
   },
   "outputs": [
    {
     "data": {
      "text/html": [
       "<div>\n",
       "<table border=\"1\" class=\"dataframe\">\n",
       "  <thead>\n",
       "    <tr style=\"text-align: right;\">\n",
       "      <th></th>\n",
       "      <th>case_id</th>\n",
       "      <th>stat_weight</th>\n",
       "      <th>age_youngest_child</th>\n",
       "      <th>age</th>\n",
       "      <th>sex</th>\n",
       "      <th>high_levl_edu</th>\n",
       "      <th>race</th>\n",
       "      <th>hisp</th>\n",
       "      <th>metro</th>\n",
       "      <th>labor_status</th>\n",
       "      <th>...</th>\n",
       "      <th>Travel related to phone calls</th>\n",
       "      <th>Travel rel. to phone calls, n.e.c.*</th>\n",
       "      <th>Security procedures related to traveling</th>\n",
       "      <th>Security procedures related to traveling, n.e.c.*</th>\n",
       "      <th>Traveling, n.e.c.*</th>\n",
       "      <th>Insufficient detail in verbatim</th>\n",
       "      <th>Missing travel or destination</th>\n",
       "      <th>Respondent refused to provide information/'none of your business'</th>\n",
       "      <th>Gap/can't remember</th>\n",
       "      <th>Unable to code activity at 1st tier</th>\n",
       "    </tr>\n",
       "  </thead>\n",
       "  <tbody>\n",
       "    <tr>\n",
       "      <th>0</th>\n",
       "      <td>20140101140007</td>\n",
       "      <td>4891315.826760</td>\n",
       "      <td>0</td>\n",
       "      <td>20</td>\n",
       "      <td>2</td>\n",
       "      <td>39</td>\n",
       "      <td>1</td>\n",
       "      <td>1</td>\n",
       "      <td>1</td>\n",
       "      <td>4</td>\n",
       "      <td>...</td>\n",
       "      <td>0</td>\n",
       "      <td>0</td>\n",
       "      <td>0</td>\n",
       "      <td>0</td>\n",
       "      <td>0</td>\n",
       "      <td>0</td>\n",
       "      <td>0</td>\n",
       "      <td>0</td>\n",
       "      <td>0</td>\n",
       "      <td>0</td>\n",
       "    </tr>\n",
       "    <tr>\n",
       "      <th>1</th>\n",
       "      <td>20140101140011</td>\n",
       "      <td>23147368.359655</td>\n",
       "      <td>16</td>\n",
       "      <td>16</td>\n",
       "      <td>2</td>\n",
       "      <td>37</td>\n",
       "      <td>2</td>\n",
       "      <td>2</td>\n",
       "      <td>1</td>\n",
       "      <td>1</td>\n",
       "      <td>...</td>\n",
       "      <td>0</td>\n",
       "      <td>0</td>\n",
       "      <td>0</td>\n",
       "      <td>0</td>\n",
       "      <td>0</td>\n",
       "      <td>0</td>\n",
       "      <td>0</td>\n",
       "      <td>0</td>\n",
       "      <td>0</td>\n",
       "      <td>0</td>\n",
       "    </tr>\n",
       "    <tr>\n",
       "      <th>2</th>\n",
       "      <td>20140101140028</td>\n",
       "      <td>20941823.429044</td>\n",
       "      <td>2</td>\n",
       "      <td>65</td>\n",
       "      <td>2</td>\n",
       "      <td>38</td>\n",
       "      <td>1</td>\n",
       "      <td>1</td>\n",
       "      <td>1</td>\n",
       "      <td>5</td>\n",
       "      <td>...</td>\n",
       "      <td>0</td>\n",
       "      <td>0</td>\n",
       "      <td>0</td>\n",
       "      <td>0</td>\n",
       "      <td>0</td>\n",
       "      <td>0</td>\n",
       "      <td>0</td>\n",
       "      <td>0</td>\n",
       "      <td>0</td>\n",
       "      <td>0</td>\n",
       "    </tr>\n",
       "    <tr>\n",
       "      <th>3</th>\n",
       "      <td>20140101140063</td>\n",
       "      <td>2505899.417166</td>\n",
       "      <td>-1</td>\n",
       "      <td>50</td>\n",
       "      <td>2</td>\n",
       "      <td>39</td>\n",
       "      <td>2</td>\n",
       "      <td>2</td>\n",
       "      <td>2</td>\n",
       "      <td>5</td>\n",
       "      <td>...</td>\n",
       "      <td>0</td>\n",
       "      <td>0</td>\n",
       "      <td>0</td>\n",
       "      <td>0</td>\n",
       "      <td>0</td>\n",
       "      <td>0</td>\n",
       "      <td>0</td>\n",
       "      <td>0</td>\n",
       "      <td>0</td>\n",
       "      <td>0</td>\n",
       "    </tr>\n",
       "    <tr>\n",
       "      <th>4</th>\n",
       "      <td>20140101140168</td>\n",
       "      <td>15928231.823165</td>\n",
       "      <td>8</td>\n",
       "      <td>23</td>\n",
       "      <td>2</td>\n",
       "      <td>39</td>\n",
       "      <td>2</td>\n",
       "      <td>2</td>\n",
       "      <td>2</td>\n",
       "      <td>4</td>\n",
       "      <td>...</td>\n",
       "      <td>0</td>\n",
       "      <td>0</td>\n",
       "      <td>0</td>\n",
       "      <td>0</td>\n",
       "      <td>0</td>\n",
       "      <td>0</td>\n",
       "      <td>0</td>\n",
       "      <td>0</td>\n",
       "      <td>0</td>\n",
       "      <td>0</td>\n",
       "    </tr>\n",
       "  </tbody>\n",
       "</table>\n",
       "<p>5 rows × 409 columns</p>\n",
       "</div>"
      ],
      "text/plain": [
       "          case_id      stat_weight  age_youngest_child  age  sex  \\\n",
       "0  20140101140007   4891315.826760                   0   20    2   \n",
       "1  20140101140011  23147368.359655                  16   16    2   \n",
       "2  20140101140028  20941823.429044                   2   65    2   \n",
       "3  20140101140063   2505899.417166                  -1   50    2   \n",
       "4  20140101140168  15928231.823165                   8   23    2   \n",
       "\n",
       "   high_levl_edu  race  hisp  metro  labor_status  \\\n",
       "0             39     1     1      1             4   \n",
       "1             37     2     2      1             1   \n",
       "2             38     1     1      1             5   \n",
       "3             39     2     2      2             5   \n",
       "4             39     2     2      2             4   \n",
       "\n",
       "                  ...                   Travel related to phone calls  \\\n",
       "0                 ...                                               0   \n",
       "1                 ...                                               0   \n",
       "2                 ...                                               0   \n",
       "3                 ...                                               0   \n",
       "4                 ...                                               0   \n",
       "\n",
       "   Travel rel. to phone calls, n.e.c.*  \\\n",
       "0                                    0   \n",
       "1                                    0   \n",
       "2                                    0   \n",
       "3                                    0   \n",
       "4                                    0   \n",
       "\n",
       "   Security procedures related to traveling  \\\n",
       "0                                         0   \n",
       "1                                         0   \n",
       "2                                         0   \n",
       "3                                         0   \n",
       "4                                         0   \n",
       "\n",
       "   Security procedures related to traveling, n.e.c.*  Traveling, n.e.c.*  \\\n",
       "0                                                  0                   0   \n",
       "1                                                  0                   0   \n",
       "2                                                  0                   0   \n",
       "3                                                  0                   0   \n",
       "4                                                  0                   0   \n",
       "\n",
       "   Insufficient detail in verbatim  Missing travel or destination  \\\n",
       "0                                0                              0   \n",
       "1                                0                              0   \n",
       "2                                0                              0   \n",
       "3                                0                              0   \n",
       "4                                0                              0   \n",
       "\n",
       "   Respondent refused to provide information/'none of your business'  \\\n",
       "0                                                  0                   \n",
       "1                                                  0                   \n",
       "2                                                  0                   \n",
       "3                                                  0                   \n",
       "4                                                  0                   \n",
       "\n",
       "   Gap/can't remember  Unable to code activity at 1st tier  \n",
       "0                   0                                    0  \n",
       "1                   0                                    0  \n",
       "2                   0                                    0  \n",
       "3                   0                                    0  \n",
       "4                   0                                    0  \n",
       "\n",
       "[5 rows x 409 columns]"
      ]
     },
     "execution_count": 5,
     "metadata": {},
     "output_type": "execute_result"
    }
   ],
   "source": [
    "data_summary.head()"
   ]
  },
  {
   "cell_type": "code",
   "execution_count": 6,
   "metadata": {
    "collapsed": false,
    "scrolled": true
   },
   "outputs": [
    {
     "data": {
      "text/plain": [
       "['case_id',\n",
       " 'stat_weight',\n",
       " 'age_youngest_child',\n",
       " 'age',\n",
       " 'sex',\n",
       " 'high_levl_edu',\n",
       " 'race',\n",
       " 'hisp',\n",
       " 'metro',\n",
       " 'labor_status',\n",
       " 'more_1_job_7_days',\n",
       " 'ft_pt',\n",
       " 'school_enrolled',\n",
       " 'hs_or_col',\n",
       " 'spouse_present',\n",
       " 'spouse_employed',\n",
       " 'weekly_earnings',\n",
       " 'num_of_children',\n",
       " 'spouse_ft_pt',\n",
       " 'weekly_hours',\n",
       " 'interview_day_of_week',\n",
       " 'interview_on_holiday',\n",
       " 'eldercare_time_spent',\n",
       " 'childcare_time_spent',\n",
       " 'Sleeping',\n",
       " 'Sleeplessness',\n",
       " 'Washing, dressing and grooming oneself',\n",
       " 'Grooming, n.e.c.*',\n",
       " 'Health-related self care',\n",
       " 'Self care, n.e.c.*',\n",
       " 'Personal/Private activities',\n",
       " 'Personal emergencies',\n",
       " 'Personal Care, n.e.c.*',\n",
       " 'Interior cleaning',\n",
       " 'Laundry',\n",
       " 'Sewing, repairing, & maintaining textiles',\n",
       " 'Storing interior hh items, inc. food',\n",
       " 'Housework, n.e.c.*',\n",
       " 'Food and drink preparation',\n",
       " 'Food presentation',\n",
       " 'Kitchen and food clean-up',\n",
       " 'Interior arrangement, decoration, & repairs',\n",
       " 'Building and repairing furniture',\n",
       " 'Heating and cooling',\n",
       " 'Interior maintenance, repair, & decoration, n.e.c.*',\n",
       " 'Exterior cleaning',\n",
       " 'Exterior repair, improvements, & decoration',\n",
       " 'Exterior maintenance, repair & decoration, n.e.c.*',\n",
       " 'Lawn, garden, and houseplant care',\n",
       " 'Ponds, pools, and hot tubs',\n",
       " 'Lawn and garden, n.e.c.*',\n",
       " 'Care for animals and pets (not veterinary care)',\n",
       " 'Walking / exercising / playing with animals',\n",
       " 'Pet and animal care, n.e.c.*',\n",
       " 'Vehicle repair and maintenance (by self)',\n",
       " 'Vehicles, n.e.c.*',\n",
       " 'Appliance, tool, and toy set-up, repair, & maintenance (by self)',\n",
       " 'Financial management',\n",
       " 'Household & personal organization and planning',\n",
       " 'HH & personal mail & messages (except e-mail)',\n",
       " 'HH & personal e-mail and messages',\n",
       " 'Home security',\n",
       " 'Household management, n.e.c.*',\n",
       " 'Household activities, n.e.c.*',\n",
       " 'Physical care for hh children',\n",
       " 'Reading to/with hh children',\n",
       " 'Playing with hh children, not sports',\n",
       " 'Arts and crafts with hh children',\n",
       " 'Playing sports with hh children',\n",
       " 'Talking with/listening to hh children',\n",
       " 'Organization & planning for hh children',\n",
       " 'Looking after hh children (as a primary activity)',\n",
       " \"Attending hh children's events\",\n",
       " 'Waiting for/with hh children',\n",
       " 'Picking up/dropping off hh children',\n",
       " 'Caring for & helping hh children, n.e.c.*',\n",
       " 'Homework (hh children)',\n",
       " 'Meetings and school conferences (hh children)',\n",
       " 'Home schooling of hh children',\n",
       " \"Activities related to hh child's education, n.e.c.*\",\n",
       " 'Providing medical care to hh children',\n",
       " 'Obtaining medical care for hh children',\n",
       " \"Waiting associated with hh children's health\",\n",
       " \"Activities related to hh child's health, n.e.c.*\",\n",
       " 'Physical care for hh adults',\n",
       " 'Looking after hh adult (as a primary activity)',\n",
       " 'Providing medical care to hh adult',\n",
       " 'Obtaining medical and care services for hh adult',\n",
       " 'Waiting associated with caring for household adults',\n",
       " 'Caring for household adults, n.e.c.*',\n",
       " 'Helping hh adults',\n",
       " 'Organization & planning for hh adults',\n",
       " 'Picking up/dropping off hh adult',\n",
       " 'Waiting associated with helping hh adults',\n",
       " 'Helping household adults, n.e.c.*',\n",
       " 'Caring for & helping hh members, n.e.c.*',\n",
       " 'Physical care for nonhh children',\n",
       " 'Reading to/with nonhh children',\n",
       " 'Playing with nonhh children, not sports',\n",
       " 'Arts and crafts with nonhh children',\n",
       " 'Playing sports with nonhh children',\n",
       " 'Talking with/listening to nonhh children',\n",
       " 'Organization & planning for nonhh children',\n",
       " 'Looking after nonhh children (as primary activity)',\n",
       " \"Attending nonhh children's events\",\n",
       " 'Waiting for/with nonhh children',\n",
       " 'Dropping off/picking up nonhh children',\n",
       " 'Caring for and helping nonhh children, n.e.c.*',\n",
       " 'Homework (nonhh children)',\n",
       " 'Home schooling of nonhh children',\n",
       " 'Providing medical care to nonhh children',\n",
       " 'Obtaining medical care for nonhh children',\n",
       " \"Waiting associated with nonhh children's health\",\n",
       " 'Physical care for nonhh adults',\n",
       " 'Looking after nonhh adult (as a primary activity)',\n",
       " 'Providing medical care to nonhh adult',\n",
       " 'Obtaining medical and care services for nonhh adult',\n",
       " 'Waiting associated with caring for nonhh adults',\n",
       " 'Housework, cooking, & shopping assistance for nonhh adults',\n",
       " 'House & lawn maintenance & repair assistance for nonhh adults',\n",
       " 'Animal & pet care assistance for nonhh adults',\n",
       " 'Vehicle & appliance maintenance/repair assistance for nonhh adults',\n",
       " 'Financial management assistance for nonhh adults',\n",
       " 'Household management & paperwork assistance for nonhh adults',\n",
       " 'Picking up/dropping off nonhh adult',\n",
       " 'Waiting associated with helping nonhh adults',\n",
       " 'Helping nonhh adults, n.e.c.*',\n",
       " 'Caring for & helping nonhh members, n.e.c.*',\n",
       " 'Work, main job',\n",
       " 'Work, other job(s)',\n",
       " 'Security procedures related to work',\n",
       " 'Waiting associated with working',\n",
       " 'Working, n.e.c.*',\n",
       " 'Socializing, relaxing, and leisure as part of job',\n",
       " 'Eating and drinking as part of job',\n",
       " 'Sports and exercise as part of job',\n",
       " 'Waiting associated with work-related activities',\n",
       " 'Income-generating hobbies, crafts, and food',\n",
       " 'Income-generating performances',\n",
       " 'Income-generating services',\n",
       " 'Income-generating rental property activities',\n",
       " 'Waiting associated with other income-generating activities',\n",
       " 'Other income-generating activities, n.e.c.*',\n",
       " 'Job search activities',\n",
       " 'Job interviewing',\n",
       " 'Waiting associated with job search or interview',\n",
       " 'Job search and Interviewing, n.e.c.*',\n",
       " 'Work and work-related activities, n.e.c.*',\n",
       " 'Taking class for degree, certification, or licensure',\n",
       " 'Taking class for personal interest',\n",
       " 'Waiting associated with taking classes',\n",
       " 'Taking class, n.e.c.*',\n",
       " 'Extracurricular club activities',\n",
       " 'Extracurricular music & performance activities',\n",
       " 'Research/homework for class for degree, certification, or licensure',\n",
       " 'Research/homework for class for pers. interest',\n",
       " 'Waiting associated with research/homework',\n",
       " 'Research/homework n.e.c.*',\n",
       " 'Administrative activities: class for degree, certification, or licensure',\n",
       " 'Waiting associated w/admin. activities (education)',\n",
       " 'Administrative for education, n.e.c.*',\n",
       " 'Education, n.e.c.*',\n",
       " 'Grocery shopping',\n",
       " 'Purchasing gas',\n",
       " 'Purchasing food (not groceries)',\n",
       " 'Shopping, except groceries, food and gas',\n",
       " 'Waiting associated with shopping',\n",
       " 'Shopping, n.e.c.*',\n",
       " 'Comparison shopping',\n",
       " 'Consumer purchases, n.e.c.*',\n",
       " 'Using paid childcare services',\n",
       " 'Banking',\n",
       " 'Using other financial services',\n",
       " 'Waiting associated w/banking/financial services',\n",
       " 'Using legal services',\n",
       " 'Using legal services, n.e.c.*',\n",
       " 'Using health and care services outside the home',\n",
       " 'Using in-home health and care services',\n",
       " 'Waiting associated with medical services',\n",
       " 'Using personal care services',\n",
       " 'Waiting associated w/personal care services',\n",
       " 'Activities rel. to purchasing/selling real estate',\n",
       " 'Waiting associated w/purchasing/selling real estate',\n",
       " 'Using veterinary services',\n",
       " 'Waiting associated with veterinary services',\n",
       " 'Using veterinary services, n.e.c.*',\n",
       " 'Professional and personal services, n.e.c.*',\n",
       " 'Using interior cleaning services',\n",
       " 'Using clothing repair and cleaning services',\n",
       " 'Waiting associated with using household services',\n",
       " 'Using household services, n.e.c.*',\n",
       " 'Using home maint/repair/décor/construction svcs',\n",
       " 'Waiting associated w/ home main/repair/décor/constr',\n",
       " 'Using pet services',\n",
       " 'Using lawn and garden services',\n",
       " 'Using vehicle maintenance or repair services',\n",
       " 'Waiting associated with vehicle main. or repair svcs',\n",
       " 'Using vehicle maint. & repair svcs, n.e.c.*',\n",
       " 'Using household services, n.e.c.*',\n",
       " 'Using police and fire services',\n",
       " 'Using social services',\n",
       " 'Obtaining licenses & paying fines, fees, taxes',\n",
       " 'Using government services, n.e.c.*',\n",
       " 'Civic obligations & participation',\n",
       " 'Waiting associated with using government services',\n",
       " 'Waiting associated with civic obligations & participation',\n",
       " 'Government services, n.e.c.*',\n",
       " 'Eating and drinking',\n",
       " 'Waiting associated w/eating & drinking',\n",
       " 'Waiting associated with eating & drinking, n.e.c.*',\n",
       " 'Socializing and communicating with others',\n",
       " 'Socializing and communicating, n.e.c.*',\n",
       " 'Attending or hosting parties/receptions/ceremonies',\n",
       " 'Attending meetings for personal interest (not volunteering)',\n",
       " 'Attending/hosting social events, n.e.c.*',\n",
       " 'Relaxing, thinking',\n",
       " 'Tobacco and drug use',\n",
       " 'Television and movies (not religious)',\n",
       " 'Television (religious)',\n",
       " 'Listening to the radio',\n",
       " 'Listening to/playing music (not radio)',\n",
       " 'Playing games',\n",
       " 'Computer use for leisure (exc. Games)',\n",
       " 'Arts and crafts as a hobby',\n",
       " 'Collecting as a hobby',\n",
       " 'Hobbies, except arts & crafts and collecting',\n",
       " 'Reading for personal interest',\n",
       " 'Writing for personal interest',\n",
       " 'Relaxing and leisure, n.e.c.*',\n",
       " 'Attending performing arts',\n",
       " 'Attending museums',\n",
       " 'Attending movies/film',\n",
       " 'Attending gambling establishments',\n",
       " 'Arts and entertainment, n.e.c.*',\n",
       " 'Waiting assoc. w/socializing & communicating',\n",
       " 'Waiting assoc. w/attending/hosting social events',\n",
       " 'Waiting associated with relaxing/leisure',\n",
       " 'Waiting associated with arts & entertainment',\n",
       " 'Socializing, relaxing, and leisure, n.e.c.*',\n",
       " 'Doing aerobics',\n",
       " 'Playing baseball',\n",
       " 'Playing basketball',\n",
       " 'Biking',\n",
       " 'Playing billiards',\n",
       " 'Boating',\n",
       " 'Bowling',\n",
       " 'Climbing, spelunking, caving',\n",
       " 'Dancing',\n",
       " 'Participating in equestrian sports',\n",
       " 'Fishing',\n",
       " 'Playing football',\n",
       " 'Golfing',\n",
       " 'Doing gymnastics',\n",
       " 'Hiking',\n",
       " 'Playing hockey',\n",
       " 'Hunting',\n",
       " 'Participating in martial arts',\n",
       " 'Playing racquet sports',\n",
       " 'Rollerblading',\n",
       " 'Running',\n",
       " 'Skiing, ice skating, snowboarding',\n",
       " 'Playing soccer',\n",
       " 'Softball',\n",
       " 'Using cardiovascular equipment',\n",
       " 'Vehicle touring/racing',\n",
       " 'Playing volleyball',\n",
       " 'Walking',\n",
       " 'Participating in water sports',\n",
       " 'Weightlifting/strength training',\n",
       " 'Working out, unspecified',\n",
       " 'Doing yoga',\n",
       " 'Playing sports n.e.c.*',\n",
       " 'Watching baseball',\n",
       " 'Watching basketball',\n",
       " 'Watching biking',\n",
       " 'Watching billiards',\n",
       " 'Watching boating',\n",
       " 'Watching equestrian sports',\n",
       " 'Watching football',\n",
       " 'Watching golfing',\n",
       " 'Watching gymnastics',\n",
       " 'Watching hockey',\n",
       " 'Watching racquet sports',\n",
       " 'Watching rodeo competitions',\n",
       " 'Watching running',\n",
       " 'Watching soccer',\n",
       " 'Watching softball',\n",
       " 'Watching vehicle touring/racing',\n",
       " 'Watching volleyball',\n",
       " 'Watching water sports',\n",
       " 'Watching people working out, unspecified',\n",
       " 'Attending sporting events, n.e.c.*',\n",
       " 'Waiting related to playing sports or exercising',\n",
       " 'Waiting related to attending sporting events',\n",
       " 'Sports, exercise, & recreation, n.e.c.*',\n",
       " 'Attending religious services',\n",
       " 'Participation in religious practices',\n",
       " 'Waiting associated w/religious & spiritual activities',\n",
       " 'Security procedures rel. to religious & spiritual activities',\n",
       " 'Religious education activities',\n",
       " 'Religious and spiritual activities, n.e.c.*',\n",
       " 'Computer use',\n",
       " 'Organizing and preparing',\n",
       " 'Reading',\n",
       " 'Telephone calls (except hotline counseling)',\n",
       " 'Writing',\n",
       " 'Fundraising',\n",
       " 'Administrative & support activities, n.e.c.*',\n",
       " 'Food preparation, presentation, clean-up',\n",
       " 'Collecting & delivering clothing & other goods',\n",
       " 'Providing care',\n",
       " 'Teaching, leading, counseling, mentoring',\n",
       " 'Social service & care activities, n.e.c.*',\n",
       " 'Building houses, wildlife sites, & other structures',\n",
       " 'Indoor & outdoor maintenance, repair, & clean-up',\n",
       " 'Performing',\n",
       " 'Serving at volunteer events & cultural activities',\n",
       " 'Participating in performance & cultural activities, n.e.c.*',\n",
       " 'Attending meetings, conferences, & training',\n",
       " 'Public health activities',\n",
       " 'Public safety activities',\n",
       " 'Waiting associated with volunteer activities',\n",
       " 'Volunteer activities, n.e.c.*',\n",
       " 'Telephone calls to/from family members',\n",
       " 'Telephone calls to/from friends, neighbors, or acquaintances',\n",
       " 'Telephone calls to/from education services providers',\n",
       " 'Telephone calls to/from salespeople',\n",
       " 'Telephone calls to/from professional or personal care svcs providers',\n",
       " 'Telephone calls to/from household services providers',\n",
       " 'Telephone calls to/from paid child or adult care providers',\n",
       " 'Telephone calls to/from government officials',\n",
       " 'Telephone calls (to or from), n.e.c.*',\n",
       " 'Telephone calls, n.e.c.*',\n",
       " 'Travel related to personal care',\n",
       " 'Travel related to housework',\n",
       " 'Travel related to food & drink prep., clean-up, & presentation',\n",
       " 'Travel related to interior maintenance, repair, & decoration',\n",
       " 'Travel related to exterior maintenance, repair, & decoration',\n",
       " 'Travel related to lawn, garden, and houseplant care',\n",
       " 'Travel related to care for animals and pets (not vet care)',\n",
       " 'Travel related to vehicle care & maintenance (by self)',\n",
       " 'Travel related to appliance, tool, and toy set-up, repair, & maintenance (by self)',\n",
       " 'Travel related to household management',\n",
       " 'Travel related to household activities, n.e.c.*',\n",
       " 'Travel related to caring for & helping hh children',\n",
       " \"Travel related to hh children's education\",\n",
       " \"Travel related to hh children's health\",\n",
       " 'Travel related to caring for hh adults',\n",
       " 'Travel related to helping hh adults',\n",
       " 'Travel related to caring for and helping nonhh children',\n",
       " \"Travel related to nonhh children's education\",\n",
       " \"Travel related to nonhh children's health\",\n",
       " 'Travel related to caring for nonhh adults',\n",
       " 'Travel related to helping nonhh adults',\n",
       " 'Travel rel. to caring for & helping nonhh members, n.e.c.*',\n",
       " 'Travel related to working',\n",
       " 'Travel related to work-related activities',\n",
       " 'Travel related to income-generating activities',\n",
       " 'Travel related to job search & interviewing',\n",
       " 'Travel related to work, n.e.c.*',\n",
       " 'Travel related to taking class',\n",
       " 'Travel related to extracurricular activities (ex. Sports)',\n",
       " 'Travel related to research/homework',\n",
       " 'Travel related to registration/administrative activities',\n",
       " 'Travel related to education, n.e.c.*',\n",
       " 'Travel related to grocery shopping',\n",
       " 'Travel related to purchasing gas',\n",
       " 'Travel related to purchasing food (not groceries)',\n",
       " 'Travel related to shopping, ex groceries, food, and gas',\n",
       " 'Travel related to consumer purchases, n.e.c.*',\n",
       " 'Travel related to using childcare services',\n",
       " 'Travel related to using financial services and banking',\n",
       " 'Travel related to using legal services',\n",
       " 'Travel related to using medical services',\n",
       " 'Travel related to using personal care services',\n",
       " 'Travel related to using real estate services',\n",
       " 'Travel related to using veterinary services',\n",
       " 'Travel rel. to using prof. & personal care services, n.e.c.*',\n",
       " 'Travel related to using household services',\n",
       " 'Travel related to using home main./repair/décor./construction svcs',\n",
       " 'Travel related to using pet services (not vet)',\n",
       " 'Travel related to using vehicle maintenance & repair services',\n",
       " 'Travel related to using household services, n.e.c.*',\n",
       " 'Travel related to using government services',\n",
       " 'Travel related to civic obligations & participation',\n",
       " 'Travel rel. to govt svcs & civic obligations, n.e.c.*',\n",
       " 'Travel related to eating and drinking',\n",
       " 'Travel related to socializing and communicating',\n",
       " 'Travel related to attending or hosting social events',\n",
       " 'Travel related to relaxing and leisure',\n",
       " 'Travel related to arts and entertainment',\n",
       " 'Travel as a form of entertainment',\n",
       " 'Travel rel. to socializing, relaxing, & leisure, n.e.c.*',\n",
       " 'Travel related to participating in sports/exercise/recreation',\n",
       " 'Travel related to attending sporting/recreational events',\n",
       " 'Travel related to sports, exercise, & recreation, n.e.c.*',\n",
       " 'Travel related to religious/spiritual practices',\n",
       " 'Travel related to volunteering',\n",
       " 'Travel related to volunteer activities, n.e.c.*',\n",
       " 'Travel related to phone calls',\n",
       " 'Travel rel. to phone calls, n.e.c.*',\n",
       " 'Security procedures related to traveling',\n",
       " 'Security procedures related to traveling, n.e.c.*',\n",
       " 'Traveling, n.e.c.*',\n",
       " 'Insufficient detail in verbatim',\n",
       " 'Missing travel or destination',\n",
       " \"Respondent refused to provide information/'none of your business'\",\n",
       " \"Gap/can't remember\",\n",
       " 'Unable to code activity at 1st tier']"
      ]
     },
     "execution_count": 6,
     "metadata": {},
     "output_type": "execute_result"
    }
   ],
   "source": [
    "[x for x in data_summary.keys()]"
   ]
  },
  {
   "cell_type": "code",
   "execution_count": 7,
   "metadata": {
    "collapsed": false
   },
   "outputs": [],
   "source": [
    "data_summary = data_summary.replace(-1, np.nan)\n"
   ]
  },
  {
   "cell_type": "code",
   "execution_count": 8,
   "metadata": {
    "collapsed": false
   },
   "outputs": [],
   "source": [
    "total_participants = data_summary[['case_id','age', 'sex']]\n",
    "male = total_participants[total_participants.sex == 1]  # Male = 1\n",
    "female = total_participants[total_participants.sex == 2]  # Female = 2"
   ]
  },
  {
   "cell_type": "code",
   "execution_count": 9,
   "metadata": {
    "collapsed": false,
    "scrolled": true
   },
   "outputs": [
    {
     "data": {
      "image/png": "[encoded data removed]",
      "text/plain": [
       "<matplotlib.figure.Figure at 0x11a083390>"
      ]
     },
     "metadata": {},
     "output_type": "display_data"
    }
   ],
   "source": [
    "total_participants['age'].plot(kind='hist')\n",
    "plt.title(\"Participants by Age: {} count\".format(total_participants['case_id'].count()))\n",
    "plt.ylabel(\"Amount of Participation\")\n",
    "plt.xlabel(\"Age\")\n",
    "plt.show()\n",
    "\n",
    "#The largest group of participants are in the 35 - 50 range"
   ]
  },
  {
   "cell_type": "code",
   "execution_count": 10,
   "metadata": {
    "collapsed": false
   },
   "outputs": [
    {
     "data": {
      "image/png": "[encoded data removed]",
      "text/plain": [
       "<matplotlib.figure.Figure at 0x1145628d0>"
      ]
     },
     "metadata": {},
     "output_type": "display_data"
    }
   ],
   "source": [
    "male['age'].plot(kind='hist')\n",
    "plt.title(\"Male Participants Age: {} count\".format(male['age'].count()))\n",
    "plt.ylabel(\"Amount of Participation\")\n",
    "plt.show()"
   ]
  },
  {
   "cell_type": "code",
   "execution_count": 11,
   "metadata": {
    "collapsed": false
   },
   "outputs": [
    {
     "data": {
      "image/png": "[encoded data removed]",
      "text/plain": [
       "<matplotlib.figure.Figure at 0x1147bea58>"
      ]
     },
     "metadata": {},
     "output_type": "display_data"
    }
   ],
   "source": [
    "female['age'].plot(kind='hist')\n",
    "plt.title(\"Female Participants Age: {} count\".format(female['age'].count()))\n",
    "plt.ylabel(\"Amount of Participation\")\n",
    "plt.show()"
   ]
  },
  {
   "cell_type": "code",
   "execution_count": 12,
   "metadata": {
    "collapsed": false
   },
   "outputs": [
    {
     "data": {
      "text/plain": [
       "case_id    233470449938283489\n",
       "Running                  8707\n",
       "sex                     18060\n",
       "dtype: int64"
      ]
     },
     "execution_count": 12,
     "metadata": {},
     "output_type": "execute_result"
    }
   ],
   "source": [
    " data_summary[['case_id','Running', 'sex']].sum()"
   ]
  },
  {
   "cell_type": "code",
   "execution_count": 13,
   "metadata": {
    "collapsed": false
   },
   "outputs": [],
   "source": [
    "total_runners = data_summary[['Running', 'sex']]\n",
    "male_runners = total_runners[total_runners.sex == 1]\n",
    "female_runners = total_runners[total_runners.sex == 2]"
   ]
  },
  {
   "cell_type": "code",
   "execution_count": 14,
   "metadata": {
    "collapsed": false
   },
   "outputs": [
    {
     "data": {
      "text/plain": [
       "Running    4703\n",
       "sex        5124\n",
       "dtype: int64"
      ]
     },
     "execution_count": 14,
     "metadata": {},
     "output_type": "execute_result"
    }
   ],
   "source": [
    "male_runners.sum()\n",
    "\n"
   ]
  },
  {
   "cell_type": "code",
   "execution_count": 15,
   "metadata": {
    "collapsed": false
   },
   "outputs": [
    {
     "data": {
      "text/plain": [
       "Running     4004\n",
       "sex        12936\n",
       "dtype: int64"
      ]
     },
     "execution_count": 15,
     "metadata": {},
     "output_type": "execute_result"
    }
   ],
   "source": [
    "female_runners.sum()"
   ]
  },
  {
   "cell_type": "code",
   "execution_count": 16,
   "metadata": {
    "collapsed": false
   },
   "outputs": [
    {
     "data": {
      "text/plain": [
       "Running     8707\n",
       "sex        18060\n",
       "dtype: int64"
      ]
     },
     "execution_count": 16,
     "metadata": {},
     "output_type": "execute_result"
    }
   ],
   "source": [
    "total_runners.sum()"
   ]
  },
  {
   "cell_type": "code",
   "execution_count": 17,
   "metadata": {
    "collapsed": false
   },
   "outputs": [
    {
     "data": {
      "image/png": "[encoded data removed]",
      "text/plain": [
       "<matplotlib.figure.Figure at 0x1147abb70>"
      ]
     },
     "metadata": {},
     "output_type": "display_data"
    }
   ],
   "source": [
    "x1 = [\"men runnrs\", \"men run mins\", \"wom runnrs\", \"wom run mins\"]\n",
    "y1 = [5124, 4703, 12936, 4004]\n",
    "plt.scatter(range(4), y1)\n",
    "plt.xticks(range(4), x1)\n",
    "plt.xlabel(\"runners\")\n",
    "plt.ylabel(\"total/mins\")\n",
    "plt.title(\"Running\")\n",
    "plt.show()"
   ]
  },
  {
   "cell_type": "markdown",
   "metadata": {},
   "source": [
    "# Women runners vs Men runners\n",
    "In the chart above, we see that there are a lot more woman runners, however they do not run as manyy minutes as their male counterparts "
   ]
  },
  {
   "cell_type": "code",
   "execution_count": 18,
   "metadata": {
    "collapsed": false
   },
   "outputs": [
    {
     "data": {
      "text/plain": [
       "Running     8707\n",
       "Walking    36576\n",
       "Biking      5863\n",
       "dtype: int64"
      ]
     },
     "execution_count": 18,
     "metadata": {},
     "output_type": "execute_result"
    }
   ],
   "source": [
    "data_summary[[ 'Running', 'Walking', 'Biking']].sum()"
   ]
  },
  {
   "cell_type": "code",
   "execution_count": 19,
   "metadata": {
    "collapsed": true
   },
   "outputs": [],
   "source": [
    "active = data_summary[[ 'Running', 'Walking', 'Biking',]].sum()"
   ]
  },
  {
   "cell_type": "markdown",
   "metadata": {},
   "source": [
    "# Running, Walking, or Biking?\n",
    "This graph shows the popular choice of basic excercise.  Of course, its WALKING! Followed by running. I would love to think this is because Americans \"love their walking/running\", and are truly behind the \"foot to the pavement\" moement.  However, I'm sure its because the equipment needed is minimal.  Shoes... thats it... thats all you need.  Go Figure..."
   ]
  },
  {
   "cell_type": "code",
   "execution_count": 20,
   "metadata": {
    "collapsed": false
   },
   "outputs": [
    {
     "data": {
      "image/png": "[encoded data removed]",
      "text/plain": [
       "<matplotlib.figure.Figure at 0x1125d1630>"
      ]
     },
     "metadata": {},
     "output_type": "display_data"
    }
   ],
   "source": [
    "active.plot(kind ='pie')\n",
    "plt.show()"
   ]
  },
  {
   "cell_type": "code",
   "execution_count": 21,
   "metadata": {
    "collapsed": false
   },
   "outputs": [
    {
     "data": {
      "text/plain": [
       "Reading to/with hh children              12909\n",
       "Playing with hh children, not sports     88423\n",
       "Arts and crafts with hh children          1232\n",
       "Playing sports with hh children           3297\n",
       "Talking with/listening to hh children    14410\n",
       "Homework (hh children)                   25641\n",
       "dtype: int64"
      ]
     },
     "execution_count": 21,
     "metadata": {},
     "output_type": "execute_result"
    }
   ],
   "source": [
    "data_summary[['Reading to/with hh children', 'Playing with hh children, not sports', 'Arts and crafts with hh children', 'Playing sports with hh children', 'Talking with/listening to hh children', 'Homework (hh children)']].sum()"
   ]
  },
  {
   "cell_type": "code",
   "execution_count": null,
   "metadata": {
    "collapsed": true
   },
   "outputs": [],
   "source": []
  },
  {
   "cell_type": "code",
   "execution_count": 22,
   "metadata": {
    "collapsed": true
   },
   "outputs": [],
   "source": [
    "child_time = data_summary[['Reading to/with hh children', 'Playing with hh children, not sports', 'Arts and crafts with hh children', 'Playing sports with hh children', 'Talking with/listening to hh children', 'Homework (hh children)']].sum()"
   ]
  },
  {
   "cell_type": "code",
   "execution_count": 23,
   "metadata": {
    "collapsed": false
   },
   "outputs": [
    {
     "data": {
      "image/png": "[encoded data removed]",
      "text/plain": [
       "<matplotlib.figure.Figure at 0x1147bb048>"
      ]
     },
     "metadata": {},
     "output_type": "display_data"
    }
   ],
   "source": [
    "child_time.plot(kind = 'bar')\n",
    "plt.show()"
   ]
  },
  {
   "cell_type": "markdown",
   "metadata": {},
   "source": [
    "# Time with the kids\n",
    "\n",
    "The above chart show the anout of time spent wth kids in the household.  I think this could be a little misleading.  I'm going to assume all this time spent playing with kids and not sports could mean a lot of things...  Video games perhaps? Nerf Gun Wars (my personal favorite)?  However, I am pleased to see the amout of time spent reading and doing homework with kids.  Way to go America! Wish I could believe you..."
   ]
  },
  {
   "cell_type": "markdown",
   "metadata": {},
   "source": [
    "# Let's explore the time that is spent reading with kids.  Employed vs Unemployed."
   ]
  },
  {
   "cell_type": "code",
   "execution_count": 24,
   "metadata": {
    "collapsed": true
   },
   "outputs": [],
   "source": [
    "unemployed = (data_summary.labor_status >= 3)\n",
    "employed = (data_summary.labor_status <= 2)"
   ]
  },
  {
   "cell_type": "code",
   "execution_count": 25,
   "metadata": {
    "collapsed": false
   },
   "outputs": [],
   "source": [
    "unemployed = data_summary[unemployed]\n",
    "employed = data_summary[employed]"
   ]
  },
  {
   "cell_type": "code",
   "execution_count": 26,
   "metadata": {
    "collapsed": true
   },
   "outputs": [],
   "source": [
    "unemp_reading = unemployed[['Reading to/with hh children']]\n",
    "emp_reading = employed[['Reading to/with hh children']]"
   ]
  },
  {
   "cell_type": "code",
   "execution_count": 27,
   "metadata": {
    "collapsed": false
   },
   "outputs": [
    {
     "data": {
      "text/plain": [
       "Reading to/with hh children    4189\n",
       "dtype: int64"
      ]
     },
     "execution_count": 27,
     "metadata": {},
     "output_type": "execute_result"
    }
   ],
   "source": [
    "unemp_reading.sum()"
   ]
  },
  {
   "cell_type": "code",
   "execution_count": 28,
   "metadata": {
    "collapsed": false
   },
   "outputs": [
    {
     "data": {
      "text/plain": [
       "Reading to/with hh children    8720\n",
       "dtype: int64"
      ]
     },
     "execution_count": 28,
     "metadata": {},
     "output_type": "execute_result"
    }
   ],
   "source": [
    "emp_reading.sum()"
   ]
  },
  {
   "cell_type": "code",
   "execution_count": 29,
   "metadata": {
    "collapsed": true
   },
   "outputs": [],
   "source": [
    "read_to_child = pd.DataFrame([unemp_reading.sum(), emp_reading.sum()])"
   ]
  },
  {
   "cell_type": "code",
   "execution_count": 30,
   "metadata": {
    "collapsed": false
   },
   "outputs": [
    {
     "data": {
      "text/html": [
       "<div>\n",
       "<table border=\"1\" class=\"dataframe\">\n",
       "  <thead>\n",
       "    <tr style=\"text-align: right;\">\n",
       "      <th></th>\n",
       "      <th>Minutes reading to/with Child</th>\n",
       "    </tr>\n",
       "  </thead>\n",
       "  <tbody>\n",
       "    <tr>\n",
       "      <th>Unemployed</th>\n",
       "      <td>4189</td>\n",
       "    </tr>\n",
       "    <tr>\n",
       "      <th>Employed</th>\n",
       "      <td>8720</td>\n",
       "    </tr>\n",
       "  </tbody>\n",
       "</table>\n",
       "</div>"
      ],
      "text/plain": [
       "            Minutes reading to/with Child\n",
       "Unemployed                           4189\n",
       "Employed                             8720"
      ]
     },
     "execution_count": 30,
     "metadata": {},
     "output_type": "execute_result"
    }
   ],
   "source": [
    "read_to_child.columns = [\"Minutes reading to/with Child\"]\n",
    "read_to_child.index = [\"Unemployed\", \"Employed\"]\n",
    "read_to_child"
   ]
  },
  {
   "cell_type": "code",
   "execution_count": 31,
   "metadata": {
    "collapsed": false
   },
   "outputs": [
    {
     "data": {
      "image/png": "[encoded data removed]",
      "text/plain": [
       "<matplotlib.figure.Figure at 0x1141744e0>"
      ]
     },
     "metadata": {},
     "output_type": "display_data"
    }
   ],
   "source": [
    "read_to_child.plot(kind='bar')\n",
    "plt.show()"
   ]
  },
  {
   "cell_type": "markdown",
   "metadata": {},
   "source": [
    "## Read to/with the children\n",
    "It seems that UNEMPLOYED parents read to/with their kids a lot less than EMPLOYED parents.  This is odd because one would think that the unemployed would have more time to do these things...  especially helping your child with their reading.  However, this is just a total, so the numbers could be misleading.  The Employed could simply just have more kids, which would explain why they spend more time reading to the children."
   ]
  },
  {
   "cell_type": "code",
   "execution_count": 32,
   "metadata": {
    "collapsed": false
   },
   "outputs": [],
   "source": [
    "cleaning = data_summary[[\"Interior cleaning\", 'Exterior cleaning']]"
   ]
  },
  {
   "cell_type": "code",
   "execution_count": 33,
   "metadata": {
    "collapsed": false
   },
   "outputs": [
    {
     "data": {
      "text/plain": [
       "Interior cleaning    276609\n",
       "Exterior cleaning     23438\n",
       "dtype: int64"
      ]
     },
     "execution_count": 33,
     "metadata": {},
     "output_type": "execute_result"
    }
   ],
   "source": [
    "cleaning.sum()"
   ]
  },
  {
   "cell_type": "code",
   "execution_count": 34,
   "metadata": {
    "collapsed": false
   },
   "outputs": [],
   "source": [
    "cleaning= cleaning.sum()"
   ]
  },
  {
   "cell_type": "code",
   "execution_count": 35,
   "metadata": {
    "collapsed": false
   },
   "outputs": [
    {
     "data": {
      "image/png": "[encoded data removed]",
      "text/plain": [
       "<matplotlib.figure.Figure at 0x1125fa358>"
      ]
     },
     "metadata": {},
     "output_type": "display_data"
    }
   ],
   "source": [
    "cleaning.plot(kind = 'pie')\n",
    "plt.show()"
   ]
  },
  {
   "cell_type": "code",
   "execution_count": 36,
   "metadata": {
    "collapsed": true
   },
   "outputs": [],
   "source": [
    "int_cleaning = data_summary[[\n",
    " 'Laundry',\n",
    " 'Sewing, repairing, & maintaining textiles',\n",
    " 'Storing interior hh items, inc. food',\n",
    " 'Housework, n.e.c.*',\n",
    " 'Food and drink preparation',\n",
    " 'Food presentation',\n",
    " 'Kitchen and food clean-up',\n",
    " 'Interior arrangement, decoration, & repairs',\n",
    " 'Building and repairing furniture',\n",
    " 'Heating and cooling',\n",
    " 'Interior maintenance, repair, & decoration, n.e.c.*',]]"
   ]
  },
  {
   "cell_type": "code",
   "execution_count": 37,
   "metadata": {
    "collapsed": false
   },
   "outputs": [
    {
     "data": {
      "text/plain": [
       "Laundry                                                140492\n",
       "Sewing, repairing, & maintaining textiles               19804\n",
       "Storing interior hh items, inc. food                    15926\n",
       "Housework, n.e.c.*                                        450\n",
       "Food and drink preparation                             342536\n",
       "Food presentation                                        5006\n",
       "Kitchen and food clean-up                               92830\n",
       "Interior arrangement, decoration, & repairs             38622\n",
       "Building and repairing furniture                         5823\n",
       "Heating and cooling                                      6928\n",
       "Interior maintenance, repair, & decoration, n.e.c.*       495\n",
       "dtype: int64"
      ]
     },
     "execution_count": 37,
     "metadata": {},
     "output_type": "execute_result"
    }
   ],
   "source": [
    "int_cleaning.sum()"
   ]
  },
  {
   "cell_type": "code",
   "execution_count": 38,
   "metadata": {
    "collapsed": true
   },
   "outputs": [],
   "source": [
    "int_cleaning = int_cleaning.sum()"
   ]
  },
  {
   "cell_type": "code",
   "execution_count": 39,
   "metadata": {
    "collapsed": false
   },
   "outputs": [
    {
     "data": {
      "image/png": "[encoded data removed]",
      "text/plain": [
       "<matplotlib.figure.Figure at 0x114b4db70>"
      ]
     },
     "metadata": {},
     "output_type": "display_data"
    }
   ],
   "source": [
    "int_cleaning.plot(kind='bar')\n",
    "plt.show()"
   ]
  },
  {
   "cell_type": "code",
   "execution_count": 40,
   "metadata": {
    "collapsed": true
   },
   "outputs": [],
   "source": [
    "ext_cleaning = data_summary[['Exterior repair, improvements, & decoration',\n",
    " 'Exterior maintenance, repair & decoration, n.e.c.*',\n",
    " 'Lawn, garden, and houseplant care',\n",
    " 'Ponds, pools, and hot tubs',\n",
    " 'Lawn and garden, n.e.c.*',]]"
   ]
  },
  {
   "cell_type": "code",
   "execution_count": 41,
   "metadata": {
    "collapsed": false
   },
   "outputs": [
    {
     "data": {
      "text/plain": [
       "Exterior repair, improvements, & decoration            16185\n",
       "Exterior maintenance, repair & decoration, n.e.c.*       268\n",
       "Lawn, garden, and houseplant care                     141062\n",
       "Ponds, pools, and hot tubs                              2443\n",
       "Lawn and garden, n.e.c.*                                   5\n",
       "dtype: int64"
      ]
     },
     "execution_count": 41,
     "metadata": {},
     "output_type": "execute_result"
    }
   ],
   "source": [
    "ext_cleaning.sum()"
   ]
  },
  {
   "cell_type": "code",
   "execution_count": 42,
   "metadata": {
    "collapsed": false
   },
   "outputs": [
    {
     "data": {
      "image/png": "[encoded data removed]",
      "text/plain": [
       "<matplotlib.figure.Figure at 0x114c7d198>"
      ]
     },
     "metadata": {},
     "output_type": "display_data"
    }
   ],
   "source": [
    "ext_cleaning.plot(kind='hist')\n",
    "plt.show()"
   ]
  },
  {
   "cell_type": "code",
   "execution_count": null,
   "metadata": {
    "collapsed": true
   },
   "outputs": [],
   "source": []
  }
 ],
 "metadata": {
  "kernelspec": {
   "display_name": "Python 3",
   "language": "python",
   "name": "python3"
  },
  "language_info": {
   "codemirror_mode": {
    "name": "ipython",
    "version": 3
   },
   "file_extension": ".py",
   "mimetype": "text/x-python",
   "name": "python",
   "nbconvert_exporter": "python",
   "pygments_lexer": "ipython3",
   "version": "3.4.3"
  }
 },
 "nbformat": 4,
 "nbformat_minor": 0
}
